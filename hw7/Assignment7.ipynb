{
 "cells": [
  {
   "cell_type": "markdown",
   "metadata": {},
   "source": [
    "# COMS 4770 - Assignment 7 - Hedgren"
   ]
  },
  {
   "cell_type": "code",
   "execution_count": 1,
   "metadata": {},
   "outputs": [],
   "source": [
    "import numpy as np\n",
    "import cmath"
   ]
  },
  {
   "cell_type": "markdown",
   "metadata": {},
   "source": [
    "### 1. (a) Implement a procedure **evalPoly(n, a[], t, v[])** which takes as input the n + 1 coefficients of a polynomial of degree n stored in the array a[]. Here a[n] is the leading coefficient. At a point t, the procedure produces the values of the polynomial and its derivative in v[0] and v[1], respectively. Your procedure should support complex numbers."
   ]
  },
  {
   "cell_type": "code",
   "execution_count": 2,
   "metadata": {},
   "outputs": [],
   "source": [
    "\"\"\"\n",
    "Evaluates a polynomial and its derivative at point t.\n",
    "\n",
    "Parameters:\n",
    "n (int): Degree of the polynomial.\n",
    "a (list): Coefficients of the polynomial, where a[n] is the leading coefficient.\n",
    "t (complex or float): The point where the polynomial and derivative are evaluated.\n",
    "v (list): Output list where v[0] will store p(t) and v[1] will store p'(t).\n",
    "\"\"\"\n",
    "def evalPoly(n, a, t, v):\n",
    "    poly_val = complex(0, 0)\n",
    "    deriv_val = complex(0, 0)\n",
    "\n",
    "    for i in range(n + 1):\n",
    "        poly_val += a[i] * (t ** (n - i))\n",
    "        if i < n:\n",
    "            deriv_val += a[i] * (n - i) * (t ** (n - i - 1))\n",
    "\n",
    "    v[0] = poly_val\n",
    "    v[1] = deriv_val"
   ]
  },
  {
   "cell_type": "markdown",
   "metadata": {},
   "source": [
    "#### (b) (6 pts) Use the procedure to evaluate the polynomial $p(x) = x^8 − 170x^6 + 7392x^4 − 39712x^2 + 51200$ at $1.414214$ and $1 + 2i$. Also, obtain its derivatives at these two points."
   ]
  },
  {
   "cell_type": "code",
   "execution_count": 3,
   "metadata": {},
   "outputs": [
    {
     "name": "stdout",
     "output_type": "stream",
     "text": [
      "At t = 1.414214:\n",
      "p(1.414214) = (-0.015041687198390719+0j)\n",
      "p'(1.414214) = (-34371.01227099437+0j)\n",
      "\n",
      "At t = (1+2j):\n",
      "p((1+2j)) = (98175-343400j)\n",
      "p'((1+2j)) = (-446260-177000j)\n",
      "\n"
     ]
    }
   ],
   "source": [
    "n = 8\n",
    "a = [1, 0, -170, 0, 7392, 0, -39712, 0, 51200]\n",
    "\n",
    "points = [1.414214, 1 + 2j]\n",
    "results = []\n",
    "\n",
    "for t in points:\n",
    "    v = [0, 0]\n",
    "    evalPoly(n, a, t, v)\n",
    "    results.append((t, v[0], v[1]))\n",
    "\n",
    "for t, poly_value, deriv_value in results:\n",
    "    print(f\"At t = {t}:\")\n",
    "    print(f\"p({t}) = {poly_value}\")\n",
    "    print(f\"p'({t}) = {deriv_value}\")\n",
    "    print()"
   ]
  },
  {
   "cell_type": "markdown",
   "metadata": {},
   "source": [
    "##### Outputs:\n",
    "At $t = 1.414214$:\n",
    "$$p(1.414214) = (-0.015041687198390719+0j)$$\n",
    "$$p'(1.414214) = (-34371.01227099437+0j)$$\n",
    "\n",
    "At $t = (1+2j)$:\n",
    "$$p((1+2j)) = (98175-343400j)$$\n",
    "$$p'((1+2j)) = (-446260-177000j)$$\n",
    "\n",
    "*NOTE: python's complex() uses j for denoting imaginary numbers instead of i*"
   ]
  },
  {
   "cell_type": "markdown",
   "metadata": {},
   "source": [
    "### 2. In this problem you are asked to implement the fast Fourier transform and polynomial multiplication. Your code should have at least the following components:"
   ]
  },
  {
   "cell_type": "markdown",
   "metadata": {},
   "source": [
    "#### (a) (11 pts) A procedure **DFT(n, a[], ahat[])** which takes as input the coefficients a[0], a[1], . . ., a[n] of a polynomial of degree n, where a[n] is the leading coefficient. It generates an array ahat[] that stores the images of these coefficients under the discrete Fourier transform."
   ]
  },
  {
   "cell_type": "code",
   "execution_count": 4,
   "metadata": {},
   "outputs": [],
   "source": [
    "def DFT(n, a, ahat):\n",
    "    omega_N = np.exp(2j * np.pi / n)\n",
    "    \n",
    "    for k in range(n):\n",
    "        ahat_k = 0\n",
    "        \n",
    "        for j in range(n):\n",
    "            ahat_k += a[j] * omega_N**(j * k)\n",
    "        \n",
    "        ahat[k] = ahat_k"
   ]
  },
  {
   "cell_type": "markdown",
   "metadata": {},
   "source": [
    "#### (b) (6 pts) A procedure **IDFT(n, ahat[], a[])** which performs the inverse DFT. Namely, it outputs the coefficients a[0], a[1], . . ., a[n] from their images ahat[0], ahat[1], . . ., ahat[n] under DFT."
   ]
  },
  {
   "cell_type": "code",
   "execution_count": 5,
   "metadata": {},
   "outputs": [],
   "source": [
    "def IDFT(n, ahat, a):\n",
    "    omega_N_inv = np.exp(-2j * np.pi / n)\n",
    "    \n",
    "    for j in range(n):\n",
    "        a_j = 0\n",
    "        \n",
    "        for k in range(n):\n",
    "            a_j += ahat[k] * omega_N_inv**(j * k)\n",
    "        \n",
    "        a[j] = a_j / n"
   ]
  },
  {
   "cell_type": "code",
   "execution_count": 6,
   "metadata": {},
   "outputs": [
    {
     "name": "stdout",
     "output_type": "stream",
     "text": [
      "DFT coefficients rounded (ahat): [10.0, (-2-2j), -2.0, (-2+2j)]\n",
      "IDFT coefficients rounded (a): [1.0, 2.0, 3.0, 4.0]\n",
      "\n",
      "Difference between original a and a after IDFT rounded:\n",
      "[0.0, 0.0, -0.0, 0.0]\n"
     ]
    }
   ],
   "source": [
    "# TESTING DFT and IDFT\n",
    "n = 4\n",
    "a = [1, 2, 3, 4]\n",
    "ahat = [0] * (n)\n",
    "\n",
    "a_new = [0] * 4\n",
    "\n",
    "def round_coeff(coeffs, threshold=1e-15):\n",
    "    rounded_coeffs = []\n",
    "        \n",
    "    for coeff in coeffs:\n",
    "        real_part = np.round(coeff.real, 10)\n",
    "        imag_part = np.round(coeff.imag, 10)\n",
    "        \n",
    "        if abs(imag_part) < threshold:\n",
    "            imag_part = 0\n",
    "        \n",
    "        if imag_part == 0:\n",
    "            rounded_coeffs.append(real_part)\n",
    "        else:\n",
    "            rounded_coeffs.append(complex(real_part, imag_part))\n",
    "    \n",
    "    return rounded_coeffs\n",
    "\n",
    "DFT(n, a, ahat)\n",
    "print(\"DFT coefficients rounded (ahat):\", round_coeff(ahat))\n",
    "IDFT(n, ahat, a_new)\n",
    "print(\"IDFT coefficients rounded (a):\", round_coeff(a_new))\n",
    "\n",
    "print()\n",
    "print(\"Difference between original a and a after IDFT rounded:\")\n",
    "result = [x - y for x, y in zip(a_new, a)]\n",
    "print(round_coeff(result))"
   ]
  },
  {
   "cell_type": "markdown",
   "metadata": {},
   "source": [
    "#### (c) (5 pts) A procedure **multiplyPolys(n, m, a[], b[], c[])** which uses FFT to compute the product of two polynomials of degrees n and m, respectively. The coefficients of these two polynomials are stored in the arrays a[] and b[], respectively, with leading coefficients a[n] and b[m]. The coefficients of the product polynomial will be stored in the array c[]."
   ]
  },
  {
   "cell_type": "code",
   "execution_count": 7,
   "metadata": {},
   "outputs": [],
   "source": [
    "def multiplyPolys(n, m, a, b):\n",
    "    size = 1\n",
    "    while size < n + m + 1:\n",
    "        size *= 2\n",
    "    \n",
    "    a_padded = np.pad(a, (0, size - (n + 1)), 'constant')\n",
    "    b_padded = np.pad(b, (0, size - (m + 1)), 'constant')\n",
    "    \n",
    "    A_hat = np.zeros(size, dtype=complex)\n",
    "    B_hat = np.zeros(size, dtype=complex)\n",
    "    \n",
    "    DFT(size, a_padded, A_hat)\n",
    "    DFT(size, b_padded, B_hat)\n",
    "    \n",
    "    C_hat = A_hat * B_hat\n",
    "    \n",
    "    c_padded = np.zeros(size, dtype=complex)\n",
    "    \n",
    "    IDFT(size, C_hat, c_padded)\n",
    "    \n",
    "    c = np.real(c_padded)\n",
    "    \n",
    "    return c[:n + m + 1]"
   ]
  },
  {
   "cell_type": "markdown",
   "metadata": {},
   "source": [
    "#### (d) (4 pts) Use the procedure **multiplyPolys** to compute the product of the two polynomials below:\n",
    "\n",
    "$p(x) = x^7 − 70.1x^6 + 2.4x^5 − 3.7x^4 + 7.4x^3 − 10.8x^2 + 10.8x − 6.8$\n",
    "\n",
    "$q(x) = x^8 − 170x^6 + 0.614x^5 + 7392x^4 + 104.2x^3 − 39712x^2 + 51200$"
   ]
  },
  {
   "cell_type": "code",
   "execution_count": 8,
   "metadata": {},
   "outputs": [
    {
     "name": "stdout",
     "output_type": "stream",
     "text": [
      "Product coefficients: [ 9.99999999e-01 -7.01000000e+01 -1.67600000e+02  1.19139140e+04\n",
      "  6.94835860e+03 -5.17455326e+05 -3.05250918e+04  2.75854462e+06\n",
      "  8.36382880e+03 -3.52008549e+06 -9.22847352e+04  1.90309360e+05\n",
      " -5.07181600e+04 -2.82918400e+05  5.52960000e+05 -3.48160000e+05]\n"
     ]
    }
   ],
   "source": [
    "p = [1, -70.1, 2.4, -3.7, 7.4, -10.8, 10.8, -6.8]\n",
    "q = [1, 0, -170, 0.614, 7392, 104.2, -39712, 0, 51200]\n",
    "\n",
    "n = 7\n",
    "m = 8\n",
    "\n",
    "product = multiplyPolys(n, m, p, q)\n",
    "\n",
    "print(\"Product coefficients:\", product)"
   ]
  },
  {
   "cell_type": "markdown",
   "metadata": {},
   "source": [
    "##### Outputs:\n",
    "\n",
    "Product coefficients:\n",
    "[ 9.99999999e-01, -7.01000000e+01, -1.67600000e+02,  1.19139140e+04,\n",
    "  6.94835860e+03, -5.17455326e+05, -3.05250918e+04,  2.75854462e+06,\n",
    "  8.36382880e+03, -3.52008549e+06, -9.22847352e+04,  1.90309360e+05,\n",
    " -5.07181600e+04, -2.82918400e+05,  5.52960000e+05, -3.48160000e+05]"
   ]
  },
  {
   "cell_type": "markdown",
   "metadata": {},
   "source": [
    "### 3. (a) (18 pts) Write code to find the real roots of cubic and quartic polynomials. You should use their closed forms given in the notes."
   ]
  },
  {
   "cell_type": "code",
   "execution_count": 13,
   "metadata": {},
   "outputs": [],
   "source": [
    "def solve_cubic(poly: list):\n",
    "    # normalize\n",
    "    p = poly[1] / poly[0]\n",
    "    q = poly[2] / poly[0]\n",
    "    r = poly[3] / poly[0]\n",
    "\n",
    "    a = (3*q - p**2) / 3\n",
    "    b = (2*p**3 - 9*p*q + 27*r) / 27\n",
    "    delta = (b**2 / 4) + (a**3 / 27)\n",
    "\n",
    "    if delta > 0:\n",
    "        A = ((-b / 2) + cmath.sqrt(delta))**(1 / 3)\n",
    "        B = ((-b / 2) - cmath.sqrt(delta))**(1 / 3)\n",
    "        y1 = A + B\n",
    "        y2 = -(y1)/2 + ((cmath.sqrt(3) * 1j) / 2) * (A - B)\n",
    "        # y3 = -(y1)/2 - ((cmath.sqrt(3) * 1j) / 2) * (A - B)\n",
    "\n",
    "        return [(y1 - p / 3).real, y2 - p / 3, y2 - p / 3]\n",
    "    \n",
    "    elif delta == 0:\n",
    "        if b > 0:\n",
    "            y = [-2 * cmath.sqrt(-a/3), cmath.sqrt(-a/3), cmath.sqrt(-a/3)]\n",
    "        elif b < 0:\n",
    "            y = [2 * cmath.sqrt(-a/3), -cmath.sqrt(-a/3), -cmath.sqrt(-a/3)]\n",
    "        elif b == 0:\n",
    "            y = [0, 0, 0]\n",
    "\n",
    "        return [(y[0] - p / 3).real, (y[1] - p / 3).real, (y[2] - p / 3).real]\n",
    "    else:\n",
    "        theta = cmath.acos((b**2 / 4) / cmath.sqrt(-(a / 3)**3))\n",
    "        if b > 0:\n",
    "            theta = -theta\n",
    "\n",
    "        y1 = 2 * (-a / 3)**0.5 * cmath.cos(theta / 3)\n",
    "        y2 = 2 * (-a / 3)**0.5 * cmath.cos((theta + 2 * cmath.pi) / 3)\n",
    "        y3 = 2 * (-a / 3)**0.5 * cmath.cos((theta + 4 * cmath.pi) / 3)\n",
    "        return [(y1 - p / 3).real, (y2 - p / 3).real, (y2 - p / 3).real]\n",
    "\n",
    "def solve_quartic(poly: list):\n",
    "    # normalize\n",
    "    p = poly[1] / poly[0]\n",
    "    q = poly[2] / poly[0]\n",
    "    r = poly[3] / poly[0]\n",
    "    s = poly[4] / poly[0]\n",
    "\n",
    "    cubic_roots = solve_cubic([1, -q, p*r - 4*s, 4*q*s - (r**2) - (p**2)*s])\n",
    "    z1 = cubic_roots[0]\n",
    "\n",
    "    R = cmath.sqrt(0.25 * p**2 - q + z1)\n",
    "    if R == 0:\n",
    "        D = cmath.sqrt(0.75 * p**2 - 2*q + 2 * cmath.sqrt(z1**2 - 4*s))\n",
    "        E = cmath.sqrt(0.75 * p**2 - 2*q - 2 * cmath.sqrt(z1**2 - 4*s))\n",
    "    else:\n",
    "        D = cmath.sqrt(0.75 * p**2 - R**2 - 2*q + 0.25*(4*q*r - 8*r - p**3) / R)\n",
    "        E = cmath.sqrt(0.75 * p**2 - R**2 - 2*q - 0.25*(4*q*r - 8*r - p**3) / R)\n",
    "\n",
    "    x1 = -p / 4 + (R + D) / 2\n",
    "    x2 = -p / 4 + (R - D) / 2\n",
    "    x3 = -p / 4 - (R - E) / 2\n",
    "    x4 = -p / 4 - (R + E) / 2\n",
    "\n",
    "    return [x1, x2, x3, x4]\n",
    "\n",
    "def solve_quartic_with_np_roots(poly: list):\n",
    "    # normalize\n",
    "    p = poly[1] / poly[0]\n",
    "    q = poly[2] / poly[0]\n",
    "    r = poly[3] / poly[0]\n",
    "    s = poly[4] / poly[0]\n",
    "\n",
    "    cubic_roots = np.roots([1, -q, p*r - 4*s, 4*q*s - (r**2) - (p**2)*s])\n",
    "    z1 = cubic_roots[0]\n",
    "\n",
    "    R = cmath.sqrt(0.25 * p**2 - q + z1)\n",
    "    if R == 0:\n",
    "        D = cmath.sqrt(0.75 * p**2 - 2*q + 2 * cmath.sqrt(z1**2 - 4*s))\n",
    "        E = cmath.sqrt(0.75 * p**2 - 2*q - 2 * cmath.sqrt(z1**2 - 4*s))\n",
    "    else:\n",
    "        D = cmath.sqrt(0.75 * p**2 - R**2 - 2*q + 0.25*(4*q*r - 8*r - p**3) / R)\n",
    "        E = cmath.sqrt(0.75 * p**2 - R**2 - 2*q - 0.25*(4*q*r - 8*r - p**3) / R)\n",
    "\n",
    "    x1 = -p / 4 + (R + D) / 2\n",
    "    x2 = -p / 4 + (R - D) / 2\n",
    "    x3 = -p / 4 - (R - E) / 2\n",
    "    x4 = -p / 4 - (R + E) / 2\n",
    "\n",
    "    return [x1, x2, x3, x4]"
   ]
  },
  {
   "cell_type": "markdown",
   "metadata": {},
   "source": [
    "### (b) (4 pts) Run your code on the following two polynomials:\n",
    "$$p(x) = 110x^3 − 23x^2 + 87x + 4$$\n",
    "$$q(x) = 43x^4 + 1.34x^3 − 7x^2 − 3400$$"
   ]
  },
  {
   "cell_type": "code",
   "execution_count": 14,
   "metadata": {},
   "outputs": [
    {
     "name": "stdout",
     "output_type": "stream",
     "text": [
      "p roots: [0.8088582359998703, (-0.7269710052678355+0.3935534423483643j), (0.12720367835887453+0.09960454117848067j)]\n",
      "q roots: [(1.9596428490947195+1.9465913304769074j), (1.9596428490947195-1.9465913304769074j), (-1.9752242444435568+1.9465910835410145j), (-1.9752242444435568-1.9465910835410145j)]\n",
      "q roots using np roots for cubic: [(2.9878844886852822+8.512459626075497e-10j), (-0.0077905921839942095+2.968318647290504j), (-0.007790590465811724-2.9683186472905043j), (-3.003466096733151-8.512457405629448e-10j)]\n"
     ]
    }
   ],
   "source": [
    "p = [110, -23, 87, 4]\n",
    "q = [43, 1.34, -7, 0, -3400]\n",
    "\n",
    "p_roots = solve_cubic(p)\n",
    "q_roots = solve_quartic(q)\n",
    "q_roots_with_np = solve_quartic_with_np_roots(q)\n",
    "\n",
    "print(f\"p roots: {p_roots}\")\n",
    "print(f\"q roots: {q_roots}\")\n",
    "print(f\"q roots using np roots for cubic: {q_roots_with_np}\")"
   ]
  },
  {
   "cell_type": "markdown",
   "metadata": {},
   "source": [
    "##### Outputs:\n",
    "\n",
    "p roots: $[0.8088582359998702, (0.12720367835887447-0.0996045411784805j), (0.12720367835887447-0.0996045411784805j)]$\n",
    "\n",
    "q roots: $[(1.9596428490947195+1.9465913304769074j), (1.9596428490947195-1.9465913304769074j), (-1.9752242444435568+1.9465910835410145j), (-1.9752242444435568-1.9465910835410145j)]$\n",
    "\n",
    "q roots using np roots for cubic: $[(2.9878844886852822+8.512459626075497e-10j), (-0.0077905921839942095+2.968318647290504j), (-0.007790590465811724-2.9683186472905043j), (-3.003466096733151-8.512457405629448e-10j)]$\n",
    "\n",
    "*NOTE: I was having issues with solve_cubic. the solve_quartic_with_np_roots uses np.roots to find the cubic roots, so solve_quartic works (it may not seem to work because I couldn't get solve_cubic to work)*"
   ]
  },
  {
   "cell_type": "markdown",
   "metadata": {},
   "source": [
    "### 4. (a) (29 pts) Implement Muller’s method. Your code must be able to handle complex arithmetic. It should carry out deflation and root polishing via Newton’s method. Also, use the solver implemented in Problem 3 as a subroutine."
   ]
  },
  {
   "cell_type": "code",
   "execution_count": 11,
   "metadata": {},
   "outputs": [
    {
     "name": "stdout",
     "output_type": "stream",
     "text": [
      "Roots: [(1.3247179572447454+0j), (-0.6623589786223729+0.5622795120623011j), (-0.6623589786223729-0.5622795120623011j)]\n"
     ]
    }
   ],
   "source": [
    "def muller_method(f, x0, x1, x2, tol=1e-6):\n",
    "    while True:\n",
    "        f0, f1, f2 = f(x0), f(x1), f(x2)\n",
    "        h1, h2 = x1 - x0, x2 - x1\n",
    "        δ1, δ2 = (f1 - f0) / h1, (f2 - f1) / h2\n",
    "        a = (δ2 - δ1) / (h2 + h1)\n",
    "        b = a * h2 + δ2\n",
    "        c = f2\n",
    "        rad = cmath.sqrt(b * b - 4 * a * c)\n",
    "        \n",
    "        denom = b + rad if abs(b + rad) > abs(b - rad) else b - rad\n",
    "        dx = -2 * c / denom\n",
    "        x3 = x2 + dx\n",
    "        \n",
    "        if abs(dx) < tol:\n",
    "            return x3\n",
    "        \n",
    "        x0, x1, x2 = x1, x2, x3\n",
    "\n",
    "def deflate_polynomial(coeffs, root):\n",
    "    n = len(coeffs)\n",
    "    if abs(root.imag) < 1e-6:\n",
    "        new_coeffs = [0] * (n - 1)\n",
    "        new_coeffs[0] = coeffs[0]\n",
    "        for i in range(1, n - 1):\n",
    "            new_coeffs[i] = coeffs[i] + new_coeffs[i - 1] * root.real\n",
    "        return new_coeffs\n",
    "    else:\n",
    "        real_part, imag_part = root.real, root.imag\n",
    "        quadratic = [1, -2 * real_part, real_part ** 2 + imag_part ** 2]\n",
    "        new_coeffs = coeffs.copy()\n",
    "        for _ in range(2):  # Deflate twice\n",
    "            new_coeffs = deflate_polynomial(new_coeffs, root)\n",
    "        return new_coeffs\n",
    "\n",
    "def newton_method(f, df, x0, tol=1e-6):\n",
    "    while True:\n",
    "        fx = f(x0)\n",
    "        dfx = df(x0)\n",
    "        if abs(dfx) < tol:\n",
    "            raise ValueError(\"Derivative too small for Newton's method\")\n",
    "        dx = -fx / dfx\n",
    "        x0 += dx\n",
    "        if abs(dx) < tol:\n",
    "            return x0\n",
    "\n",
    "def find_polynomial_roots(coeffs, tol=1e-6):\n",
    "    degree = len(coeffs) - 1\n",
    "    roots = []\n",
    "    \n",
    "    while degree > 4:\n",
    "        x0, x1, x2 = 0.5, 1.0, 1.5\n",
    "        \n",
    "        f = lambda x: sum(c * x ** i for i, c in enumerate(reversed(coeffs)))\n",
    "        df = lambda x: sum(i * c * x ** (i - 1) for i, c in enumerate(reversed(coeffs)) if i > 0)\n",
    "        \n",
    "        root = muller_method(f, x0, x1, x2, tol)\n",
    "        \n",
    "        root = newton_method(f, df, root, tol)\n",
    "        roots.append(root)\n",
    "        \n",
    "        coeffs = deflate_polynomial(coeffs, root)\n",
    "        degree -= 1 if abs(root.imag) < tol else 2\n",
    "\n",
    "    if degree == 3:\n",
    "        roots.extend(solve_cubic(coeffs))\n",
    "    elif degree == 4:\n",
    "        roots.extend(solve_quartic(coeffs))\n",
    "    \n",
    "    return roots\n"
   ]
  },
  {
   "cell_type": "markdown",
   "metadata": {},
   "source": [
    "#### (b) (8 pts) Use Muller’s method to find all the zeros, real and complex, of the following two polynomials:\n",
    "$$p(x) = x^5 − 3.7x^4 + 7.4x^3 − 10.8x^2 + 10.8x − 6.8$$\n",
    "$$q(x) = x^9 − 0.843121x^8 − 8.35979x^7 + 10.1887x^6 + 14.6196x^5 − 25.7634x^4 + 9.15636x^3 − 0.360995x^2 − 0.180591x + 0.00787276$$"
   ]
  },
  {
   "cell_type": "code",
   "execution_count": 12,
   "metadata": {},
   "outputs": [
    {
     "name": "stdout",
     "output_type": "stream",
     "text": [
      "Roots of p(x): [(1.700000000000001+0j), (1.5429261246342203+1.748377938368959j), (1.5429261246342203-1.748377938368959j), (-0.5429261246342207+1.2722281192906468j), (-0.5429261246342207-1.2722281192906468j)]\n",
      "Roots of q(x): [(1.1866744600468007+0j), (1.5764705380452784+0j), (0.26742187571918064+8.17890986533145e-26j), (0.32100086315608634+0j), (0.043486566652317434+0j), (2.8298530156841935+0j), (-0.3354197997621058+0j), (-2.5231832597708754+1.9355815357762378j), (-2.5231832597708754-1.9355815357762378j)]\n"
     ]
    }
   ],
   "source": [
    "# Coefficients for p(x) = x^5 − 3.7x^4 + 7.4x^3 − 10.8x^2 + 10.8x − 6.8\n",
    "p_coefficients = [1, -3.7, 7.4, -10.8, 10.8, -6.8]\n",
    "\n",
    "# Coefficients for q(x) = x^9 − 0.843121x^8 − 8.35979x^7 + 10.1887x^6 + 14.6196x^5 − 25.7634x^4 + 9.15636x^3 − 0.360995x^2 − 0.180591x + 0.00787276\n",
    "q_coefficients = [1, -0.843121, -8.35979, 10.1887, 14.6196, -25.7634, 9.15636, -0.360995, -0.180591, 0.00787276]\n",
    "\n",
    "p_roots = find_polynomial_roots(p_coefficients)\n",
    "print(\"Roots of p(x):\", p_roots)\n",
    "\n",
    "q_roots = find_polynomial_roots(q_coefficients)\n",
    "print(\"Roots of q(x):\", q_roots)"
   ]
  },
  {
   "cell_type": "markdown",
   "metadata": {},
   "source": [
    "##### Outputs:\n",
    "\n",
    "Roots of p(x): $[(1.700000000000001+0j), (1.5429261246342203+1.748377938368959j), (1.5429261246342203-1.748377938368959j), (-0.5429261246342207+1.2722281192906468j), (-0.5429261246342207-1.2722281192906468j)]$\n",
    "\n",
    "Roots of q(x): $[(1.1866744600468007+0j), (1.5764705380452784+0j), (0.26742187571918064+8.17890986533145e-26j), (0.32100086315608634+0j), (0.043486566652317434+0j), (2.8298530156841935+0j), (-0.3354197997621058+0j), (-2.5231832597708754+1.9355815357762378j), (-2.5231832597708754-1.9355815357762378j)]$"
   ]
  }
 ],
 "metadata": {
  "kernelspec": {
   "display_name": "coms4770",
   "language": "python",
   "name": "python3"
  },
  "language_info": {
   "codemirror_mode": {
    "name": "ipython",
    "version": 3
   },
   "file_extension": ".py",
   "mimetype": "text/x-python",
   "name": "python",
   "nbconvert_exporter": "python",
   "pygments_lexer": "ipython3",
   "version": "3.12.5"
  }
 },
 "nbformat": 4,
 "nbformat_minor": 2
}
