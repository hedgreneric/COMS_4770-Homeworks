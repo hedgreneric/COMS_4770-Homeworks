{
 "cells": [
  {
   "cell_type": "markdown",
   "metadata": {},
   "source": [
    "# Homework 10 - Programming Problem"
   ]
  },
  {
   "cell_type": "markdown",
   "metadata": {},
   "source": [
    "## 2 (40 pts) Denote by pk the wombat population and by fk the size of the wombat’s food supply, both at time k.\n",
    "\n",
    "• From one time step to the next, half of the existing wombat population dies.\n",
    "\n",
    "• From one time step to the next, the number of new wombats added to the population is equal to twice the food supply.\n",
    "\n",
    "• The food supply is constant except for zero-mean random fluctuations with a variance of 10.\n",
    "\n",
    "• At each time step, the wombat population is counted with an error that has zero mean and a variance of 10. \n",
    "\n",
    "The initial state consists of\n",
    "$$p_0 = 650$$\n",
    "$$f_0 = 250$$\n",
    "\n",
    "The initial state estimate and uncertainty are\n",
    "\n",
    "$$p_0 = 600$$\n",
    "$$E ((\\hat{p}_0 − p_0)^2) = 500$$\n",
    "$$\\hat{f}_0 = 200$$\n",
    "$$E ((\\hat{f}_0 − f_0)^2) = 200$$"
   ]
  },
  {
   "cell_type": "markdown",
   "metadata": {},
   "source": [
    "### (a) (4 pts) Write the discrete-time system describing the wombat population and food supply. Include the output equation."
   ]
  },
  {
   "cell_type": "markdown",
   "metadata": {},
   "source": [
    "### (b) (36 pts) Implement the Kalman filter to estimate population and food supply. Simulate the system and the Kalman filter for 40 steps. Hand in the following:"
   ]
  },
  {
   "cell_type": "markdown",
   "metadata": {},
   "source": [
    "#### 1. (4 pts) a plot showing the true population and the estimated population as functions of time"
   ]
  },
  {
   "cell_type": "markdown",
   "metadata": {},
   "source": [
    "#### 2. (3 pts) a plot showing the true food supply and the estimated food supply as functions of time;"
   ]
  },
  {
   "cell_type": "markdown",
   "metadata": {},
   "source": [
    "#### 3. (4 pts) a plot showing the standard deviations of the population and food supply estimation errors as functions of time."
   ]
  }
 ],
 "metadata": {
  "language_info": {
   "name": "python"
  }
 },
 "nbformat": 4,
 "nbformat_minor": 2
}
